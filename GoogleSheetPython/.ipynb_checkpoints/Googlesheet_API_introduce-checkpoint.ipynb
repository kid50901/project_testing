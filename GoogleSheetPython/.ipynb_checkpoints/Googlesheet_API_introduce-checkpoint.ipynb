{
 "cells": [
  {
   "cell_type": "markdown",
   "id": "c68d0ebf",
   "metadata": {},
   "source": [
    "# Google sheets API\n",
    "## 簡介\n",
    "Google sheets 提供 API 服務為外部接口，開發者可使用其開發程式對 Google sheets 進行自動化操作。本文以 python pandas 為外部程式示範 Google sheets 的讀寫。\n",
    "\n",
    "-----\n",
    "## 步驟\n",
    "* 建立 Google API Developer 專案\n",
    "* 在專案中啟用 Google sheets API\n",
    "* 建立 API 憑證\n",
    "* 建立 API 服務帳戶\n",
    "* 建立 API 金鑰，並下載\n",
    "* 新增 Google sheets 並共用給 API 服務帳戶\n",
    "* 使用 pyhon pandas 對 Google sheets 進行讀寫。\n",
    "\n",
    "-----"
   ]
  },
  {
   "cell_type": "markdown",
   "id": "4f80069c",
   "metadata": {},
   "source": [
    "## 建立 Google API Developer 專案\n",
    "* 前往 [Google API Developer Console](https://console.cloud.google.com/apis)\n",
    "* 新增 Google API Developer 專案 <br>\n",
    "![新增專案1](https://raw.githubusercontent.com/kid50901/GoogleSheetPython/master/img/project1.PNG)\n",
    "![新增專案2](https://raw.githubusercontent.com/kid50901/GoogleSheetPython/master/img/project2.PNG)\n",
    "\n"
   ]
  },
  {
   "cell_type": "markdown",
   "id": "af4ebc1f",
   "metadata": {},
   "source": [
    "## 在專案中啟用 Google sheets API\n",
    "* 到專案頁面，啟用 API 服務<br>\n",
    "![建立API1](https://raw.githubusercontent.com/kid50901/GoogleSheetPython/master/img/API1.jpg)\n",
    "* 搜尋 google sheets API<br>\n",
    "![建立API2](https://raw.githubusercontent.com/kid50901/GoogleSheetPython/master/img/API2.PNG)\n",
    "* 啟用 google sheets API<br>\n",
    "![建立API3](https://raw.githubusercontent.com/kid50901/GoogleSheetPython/master/img/API3.PNG)\n",
    "\n"
   ]
  },
  {
   "cell_type": "markdown",
   "id": "dd7db05c",
   "metadata": {},
   "source": [
    "## 建立 API 憑證\n",
    "* ![建立憑證1](https://raw.githubusercontent.com/kid50901/GoogleSheetPython/master/img/certificate1.PNG)\n",
    "* 選取 Google Sheets API<br>\n",
    "![建立憑證2](https://raw.githubusercontent.com/kid50901/GoogleSheetPython/master/img/certificate2.PNG)\n",
    "* 點選下一步開始建立 API 帳戶。\n",
    "\n"
   ]
  },
  {
   "cell_type": "markdown",
   "id": "c055bcde",
   "metadata": {},
   "source": [
    "## 建立 API 服務帳戶\n",
    "* 自行編輯帳戶名稱<br>\n",
    "![account1](https://raw.githubusercontent.com/kid50901/GoogleSheetPython/master/img/account1.PNG)\n",
    "* 點擊建立並繼續，腳色選擇擁有者<br>\n",
    "![account2](https://raw.githubusercontent.com/kid50901/GoogleSheetPython/master/img/account2.PNG)\n",
    "* 點擊完成及跳轉到帳戶選單頁面<br>\n",
    "![account3](https://raw.githubusercontent.com/kid50901/GoogleSheetPython/master/img/account3.PNG)\n",
    "* 點選帳戶，開始建立 API 金鑰"
   ]
  },
  {
   "cell_type": "markdown",
   "id": "fed84b02",
   "metadata": {},
   "source": [
    "## 建立 API 金鑰，並下載\n",
    "* 點選金鑰分頁<br>\n",
    "![key1](https://raw.githubusercontent.com/kid50901/GoogleSheetPython/master/img/key1.PNG)\n",
    "* 建立新的金鑰<br>\n",
    "![key2](https://raw.githubusercontent.com/kid50901/GoogleSheetPython/master/img/key2.PNG)\n",
    "* 選擇 JSON<br>\n",
    "![key3](https://raw.githubusercontent.com/kid50901/GoogleSheetPython/master/img/key3.PNG)\n",
    "* 下載下來並放入專案 path<br>\n",
    "![key4](https://raw.githubusercontent.com/kid50901/GoogleSheetPython/master/img/key4.PNG)"
   ]
  },
  {
   "cell_type": "markdown",
   "id": "893ef33b",
   "metadata": {},
   "source": [
    "## 新增 Google sheets 並共用給 API 服務帳戶\n",
    "* 開啟新google sheets 點擊共用<br>\n",
    "![sheet1](https://raw.githubusercontent.com/kid50901/GoogleSheetPython/master/img/sheet1.PNG)\n",
    "* 複製API複製API服務帳戶到 Google sheets 共用\n",
    "![sheet2](https://raw.githubusercontent.com/kid50901/GoogleSheetPython/master/img/sheet2.PNG)\n",
    "![sheet3](https://raw.githubusercontent.com/kid50901/GoogleSheetPython/master/img/sheet3.PNG)\n"
   ]
  },
  {
   "cell_type": "markdown",
   "id": "ed5a408b",
   "metadata": {},
   "source": [
    "## 使用 pyhon pandas 對 Google sheets 進行讀寫。\n",
    "* 安裝相關套件"
   ]
  },
  {
   "cell_type": "code",
   "execution_count": null,
   "id": "25e35b49",
   "metadata": {},
   "outputs": [],
   "source": [
    "pip install pandas\n",
    "\n",
    "pip install gspread\n",
    "\n",
    "pip install google-auth"
   ]
  },
  {
   "cell_type": "markdown",
   "id": "ee91e879",
   "metadata": {},
   "source": [
    "* 建立憑證模組"
   ]
  },
  {
   "cell_type": "code",
   "execution_count": 1,
   "id": "9c21d900",
   "metadata": {},
   "outputs": [],
   "source": [
    "from google.oauth2.service_account import Credentials\n",
    "import gspread\n",
    "import pandas as pd\n",
    "\n",
    "scope = ['https://www.googleapis.com/auth/spreadsheets']#指定api服務\n",
    "key='grand-icon-325303-f6e21275fa4e.json' #指定金鑰\n",
    "\n",
    "##建立憑證模組\n",
    "creds = Credentials.from_service_account_file(key, scopes=scope)\n",
    "gs = gspread.authorize(creds)"
   ]
  },
  {
   "cell_type": "markdown",
   "id": "e26a74fe",
   "metadata": {},
   "source": [
    "* 和共用 google sheets 取得連線"
   ]
  },
  {
   "cell_type": "code",
   "execution_count": 2,
   "id": "ae2a21f1",
   "metadata": {},
   "outputs": [],
   "source": [
    "sheet = gs.open_by_url('https://docs.google.com/spreadsheets/d/1jlYiWjB9jPWdT5vc-CLI9CaL0FWQvTyLpLe93Ozdm1c/edit#gid=0')\n",
    "worksheet = sheet.get_worksheet(0)"
   ]
  },
  {
   "cell_type": "markdown",
   "id": "aff64633",
   "metadata": {},
   "source": [
    "* Dataframe 寫入 Google Sheets"
   ]
  },
  {
   "cell_type": "code",
   "execution_count": 5,
   "id": "db19eeed",
   "metadata": {},
   "outputs": [
    {
     "data": {
      "text/html": [
       "<div>\n",
       "<style scoped>\n",
       "    .dataframe tbody tr th:only-of-type {\n",
       "        vertical-align: middle;\n",
       "    }\n",
       "\n",
       "    .dataframe tbody tr th {\n",
       "        vertical-align: top;\n",
       "    }\n",
       "\n",
       "    .dataframe thead th {\n",
       "        text-align: right;\n",
       "    }\n",
       "</style>\n",
       "<table border=\"1\" class=\"dataframe\">\n",
       "  <thead>\n",
       "    <tr style=\"text-align: right;\">\n",
       "      <th></th>\n",
       "      <th>Date</th>\n",
       "      <th>Customer</th>\n",
       "      <th>Prodcut</th>\n",
       "      <th>Process</th>\n",
       "      <th>shift</th>\n",
       "      <th>Input_Qty</th>\n",
       "      <th>NG_Qty</th>\n",
       "      <th>defect_rate</th>\n",
       "    </tr>\n",
       "  </thead>\n",
       "  <tbody>\n",
       "    <tr>\n",
       "      <th>0</th>\n",
       "      <td>2021-04-29</td>\n",
       "      <td></td>\n",
       "      <td></td>\n",
       "      <td>FATP_INPUT</td>\n",
       "      <td>L1 D</td>\n",
       "      <td></td>\n",
       "      <td></td>\n",
       "      <td></td>\n",
       "    </tr>\n",
       "    <tr>\n",
       "      <th>1</th>\n",
       "      <td>2021-04-30</td>\n",
       "      <td></td>\n",
       "      <td></td>\n",
       "      <td>FATP_INPUT</td>\n",
       "      <td>L1 D</td>\n",
       "      <td></td>\n",
       "      <td></td>\n",
       "      <td></td>\n",
       "    </tr>\n",
       "    <tr>\n",
       "      <th>2</th>\n",
       "      <td>2021-05-01</td>\n",
       "      <td></td>\n",
       "      <td></td>\n",
       "      <td>FATP_INPUT</td>\n",
       "      <td>L1 D</td>\n",
       "      <td></td>\n",
       "      <td></td>\n",
       "      <td></td>\n",
       "    </tr>\n",
       "    <tr>\n",
       "      <th>3</th>\n",
       "      <td>2021-05-02</td>\n",
       "      <td></td>\n",
       "      <td></td>\n",
       "      <td>FATP_INPUT</td>\n",
       "      <td>L1 D</td>\n",
       "      <td></td>\n",
       "      <td></td>\n",
       "      <td></td>\n",
       "    </tr>\n",
       "    <tr>\n",
       "      <th>4</th>\n",
       "      <td>2021-05-03</td>\n",
       "      <td></td>\n",
       "      <td></td>\n",
       "      <td>FATP_INPUT</td>\n",
       "      <td>L1 D</td>\n",
       "      <td></td>\n",
       "      <td></td>\n",
       "      <td></td>\n",
       "    </tr>\n",
       "  </tbody>\n",
       "</table>\n",
       "</div>"
      ],
      "text/plain": [
       "         Date Customer Prodcut     Process shift Input_Qty NG_Qty defect_rate \n",
       "0  2021-04-29                   FATP_INPUT  L1 D                              \n",
       "1  2021-04-30                   FATP_INPUT  L1 D                              \n",
       "2  2021-05-01                   FATP_INPUT  L1 D                              \n",
       "3  2021-05-02                   FATP_INPUT  L1 D                              \n",
       "4  2021-05-03                   FATP_INPUT  L1 D                              "
      ]
     },
     "execution_count": 5,
     "metadata": {},
     "output_type": "execute_result"
    }
   ],
   "source": [
    "df=pd.read_excel(r'Yield_data.xlsx')\n",
    "df['Date']=df['Date'].astype(str) #google sheets 寫入 time 格式會報錯，故改為字串\n",
    "df.fillna('', inplace=True) #寫入時若內容有np.nan會報錯，故須作此操作取代nan\n",
    "df.head()"
   ]
  },
  {
   "cell_type": "code",
   "execution_count": 6,
   "id": "c6673736",
   "metadata": {
    "scrolled": true
   },
   "outputs": [
    {
     "data": {
      "text/plain": [
       "{'spreadsheetId': '1jlYiWjB9jPWdT5vc-CLI9CaL0FWQvTyLpLe93Ozdm1c',\n",
       " 'updatedRange': \"'工作表1'!A1:H4873\",\n",
       " 'updatedRows': 4873,\n",
       " 'updatedColumns': 8,\n",
       " 'updatedCells': 38984}"
      ]
     },
     "execution_count": 6,
     "metadata": {},
     "output_type": "execute_result"
    }
   ],
   "source": [
    "worksheet.update([df.columns.values.tolist()] + df.values.tolist()) #寫入 google sheets"
   ]
  },
  {
   "cell_type": "markdown",
   "id": "249866b5",
   "metadata": {},
   "source": [
    "![alert](https://raw.githubusercontent.com/kid50901/GoogleSheetPython/master/img/write_sheets1.PNG)"
   ]
  },
  {
   "cell_type": "markdown",
   "id": "f4ad211f",
   "metadata": {},
   "source": [
    "* 讀取 google sheets 為 Dataframe"
   ]
  },
  {
   "cell_type": "code",
   "execution_count": 7,
   "id": "577e401b",
   "metadata": {},
   "outputs": [
    {
     "data": {
      "text/html": [
       "<div>\n",
       "<style scoped>\n",
       "    .dataframe tbody tr th:only-of-type {\n",
       "        vertical-align: middle;\n",
       "    }\n",
       "\n",
       "    .dataframe tbody tr th {\n",
       "        vertical-align: top;\n",
       "    }\n",
       "\n",
       "    .dataframe thead th {\n",
       "        text-align: right;\n",
       "    }\n",
       "</style>\n",
       "<table border=\"1\" class=\"dataframe\">\n",
       "  <thead>\n",
       "    <tr style=\"text-align: right;\">\n",
       "      <th></th>\n",
       "      <th>Date</th>\n",
       "      <th>Customer</th>\n",
       "      <th>Prodcut</th>\n",
       "      <th>Process</th>\n",
       "      <th>shift</th>\n",
       "      <th>Input_Qty</th>\n",
       "      <th>NG_Qty</th>\n",
       "      <th>defect_rate</th>\n",
       "    </tr>\n",
       "  </thead>\n",
       "  <tbody>\n",
       "    <tr>\n",
       "      <th>0</th>\n",
       "      <td>2021-04-29</td>\n",
       "      <td></td>\n",
       "      <td></td>\n",
       "      <td>FATP_INPUT</td>\n",
       "      <td>L1 D</td>\n",
       "      <td></td>\n",
       "      <td></td>\n",
       "      <td></td>\n",
       "    </tr>\n",
       "    <tr>\n",
       "      <th>1</th>\n",
       "      <td>2021-04-30</td>\n",
       "      <td></td>\n",
       "      <td></td>\n",
       "      <td>FATP_INPUT</td>\n",
       "      <td>L1 D</td>\n",
       "      <td></td>\n",
       "      <td></td>\n",
       "      <td></td>\n",
       "    </tr>\n",
       "    <tr>\n",
       "      <th>2</th>\n",
       "      <td>2021-05-01</td>\n",
       "      <td></td>\n",
       "      <td></td>\n",
       "      <td>FATP_INPUT</td>\n",
       "      <td>L1 D</td>\n",
       "      <td></td>\n",
       "      <td></td>\n",
       "      <td></td>\n",
       "    </tr>\n",
       "    <tr>\n",
       "      <th>3</th>\n",
       "      <td>2021-05-02</td>\n",
       "      <td></td>\n",
       "      <td></td>\n",
       "      <td>FATP_INPUT</td>\n",
       "      <td>L1 D</td>\n",
       "      <td></td>\n",
       "      <td></td>\n",
       "      <td></td>\n",
       "    </tr>\n",
       "    <tr>\n",
       "      <th>4</th>\n",
       "      <td>2021-05-03</td>\n",
       "      <td></td>\n",
       "      <td></td>\n",
       "      <td>FATP_INPUT</td>\n",
       "      <td>L1 D</td>\n",
       "      <td></td>\n",
       "      <td></td>\n",
       "      <td></td>\n",
       "    </tr>\n",
       "  </tbody>\n",
       "</table>\n",
       "</div>"
      ],
      "text/plain": [
       "         Date Customer Prodcut     Process shift Input_Qty NG_Qty defect_rate \n",
       "0  2021-04-29                   FATP_INPUT  L1 D                              \n",
       "1  2021-04-30                   FATP_INPUT  L1 D                              \n",
       "2  2021-05-01                   FATP_INPUT  L1 D                              \n",
       "3  2021-05-02                   FATP_INPUT  L1 D                              \n",
       "4  2021-05-03                   FATP_INPUT  L1 D                              "
      ]
     },
     "execution_count": 7,
     "metadata": {},
     "output_type": "execute_result"
    }
   ],
   "source": [
    "new_df = pd.DataFrame(worksheet.get_all_records())\n",
    "new_df.head()"
   ]
  },
  {
   "cell_type": "code",
   "execution_count": null,
   "id": "0e804a76",
   "metadata": {},
   "outputs": [],
   "source": []
  }
 ],
 "metadata": {
  "kernelspec": {
   "display_name": "Python 3",
   "language": "python",
   "name": "python3"
  },
  "language_info": {
   "codemirror_mode": {
    "name": "ipython",
    "version": 3
   },
   "file_extension": ".py",
   "mimetype": "text/x-python",
   "name": "python",
   "nbconvert_exporter": "python",
   "pygments_lexer": "ipython3",
   "version": "3.8.8"
  }
 },
 "nbformat": 4,
 "nbformat_minor": 5
}
