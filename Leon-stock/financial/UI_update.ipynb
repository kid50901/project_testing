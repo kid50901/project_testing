{
 "cells": [
  {
   "cell_type": "code",
   "execution_count": 3,
   "metadata": {},
   "outputs": [],
   "source": [
    "import change_assets \n",
    "import ends_meet_month\n",
    "import datetime as dt\n",
    "import os\n",
    "def want_todoF():\n",
    "    want_todo=input('key about what do you want to do?(A.update_assests, B.delete_assest, C.update ends_meet)')\n",
    "    return want_todo\n",
    "def update():\n",
    "    thislvPATH=os.getcwd()\n",
    "    lastlvPATH=os.path.abspath(os.path.join(os.getcwd(), os.path.pardir))\n",
    "    asserts_excelpath  = r'{}\\data\\assets.xlsx'.format(lastlvPATH)\n",
    "    want_asserts_excelpath  = r'{}\\input\\assets_input.xlsx'.format(lastlvPATH)\n",
    "    datahistory  = r'{}\\data\\history'.format(lastlvPATH)\n",
    "    todo=want_todoF()\n",
    "    if  todo == 'A':\n",
    "        print('please go to append assets EXCEL,just write the data you want to append({}\\input\\assets_input.xlsx)'.format(lastlvPATH))\n",
    "        step=input(' update assets EXCEL finish?(Y/back)')\n",
    "        if step == 'Y' :\n",
    "            change_assets.append_byexcel(asserts_excelpath,want_asserts_excelpath,datahistory)\n",
    "            update()\n",
    "        else :\n",
    "            update()\n",
    "    elif todo == 'B' :\n",
    "        step=input('Do or back?(Do/back)')\n",
    "        if step == 'Do':\n",
    "            Ystr=input('Year you want to delete:')\n",
    "            Mstr=input('Month you want to delete:')\n",
    "            Y=int(Ystr)\n",
    "            M=int(Mstr)\n",
    "            change_assets.delete_bymonth(Y,M,asserts_excelpath,datahistory)\n",
    "            update()\n",
    "        else :\n",
    "            update()\n",
    "    elif todo == 'C' :\n",
    "        print('please go to update income EXCEL({}\\input\\income_input.xlsx)'.format(lastlvPATH))\n",
    "        step=input(' update income EXCEL finish?(Y/back)')\n",
    "        if step == 'Y' :\n",
    "            ends_meet_month.update_ends_meet()\n",
    "            update()\n",
    "        else :\n",
    "            update() \n",
    "    else :\n",
    "        update()  "
   ]
  },
  {
   "cell_type": "code",
   "execution_count": null,
   "metadata": {
    "scrolled": true
   },
   "outputs": [
    {
     "name": "stdout",
     "output_type": "stream",
     "text": [
      "key about what do you want to do?(A.update_assests, B.delete_assest, C.update ends_meet)A\n",
      "please go to append assets EXCEL,just write the data you want to append(C:\\Users\\chicony\\project\\Leon-stock\\input\u0007ssets_input.xlsx)\n",
      " update assets EXCEL finish?(Y/back)Y\n",
      "key about what do you want to do?(A.update_assests, B.delete_assest, C.update ends_meet)A\n",
      "please go to append assets EXCEL,just write the data you want to append(C:\\Users\\chicony\\project\\Leon-stock\\input\u0007ssets_input.xlsx)\n",
      " update assets EXCEL finish?(Y/back)Y\n",
      "key about what do you want to do?(A.update_assests, B.delete_assest, C.update ends_meet)C\n",
      "please go to update income EXCEL(C:\\Users\\chicony\\project\\Leon-stock\\input\\income_input.xlsx)\n",
      " update income EXCEL finish?(Y/back)Y\n"
     ]
    }
   ],
   "source": [
    "update()"
   ]
  },
  {
   "cell_type": "code",
   "execution_count": null,
   "metadata": {},
   "outputs": [],
   "source": []
  }
 ],
 "metadata": {
  "kernelspec": {
   "display_name": "Python 3",
   "language": "python",
   "name": "python3"
  },
  "language_info": {
   "codemirror_mode": {
    "name": "ipython",
    "version": 3
   },
   "file_extension": ".py",
   "mimetype": "text/x-python",
   "name": "python",
   "nbconvert_exporter": "python",
   "pygments_lexer": "ipython3",
   "version": "3.8.8"
  }
 },
 "nbformat": 4,
 "nbformat_minor": 4
}
