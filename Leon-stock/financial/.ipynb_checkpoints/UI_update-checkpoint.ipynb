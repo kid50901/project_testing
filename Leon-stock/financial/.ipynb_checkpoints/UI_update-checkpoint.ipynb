{
 "cells": [
  {
   "cell_type": "code",
   "execution_count": 1,
   "metadata": {},
   "outputs": [],
   "source": [
    "import change_assets \n",
    "import ends_meet_month\n",
    "import datetime as dt\n",
    "import os\n",
    "def want_todoF():\n",
    "    want_todo=input('key about what do you want to do?(A.update_assests, B.delete_assest, C.update ends_meet)')\n",
    "    return want_todo\n",
    "def update():\n",
    "    thislvPATH=os.getcwd()\n",
    "    lastlvPATH=os.path.abspath(os.path.join(os.getcwd(), os.path.pardir))\n",
    "    asserts_excelpath  = r'{}\\data\\assets.xlsx'.format(lastlvPATH)\n",
    "    want_asserts_excelpath  = r'{}\\input\\assets_input.xlsx'.format(lastlvPATH)\n",
    "    datahistory  = r'{}\\data\\history'.format(lastlvPATH)\n",
    "    todo=want_todoF()\n",
    "    if  todo == 'A':\n",
    "        print('please go to append assets EXCEL,just write the data you want to append({}\\input\\assets_input.xlsx)'.format(lastlvPATH))\n",
    "        step=input(' update assets EXCEL finish?(Y/back)')\n",
    "        if step == 'Y' :\n",
    "            change_assets.append_byexcel(asserts_excelpath,want_asserts_excelpath,datahistory)\n",
    "            update()\n",
    "        else :\n",
    "            update()\n",
    "    elif todo == 'B' :\n",
    "        step=input('Do or back?(Do/back)')\n",
    "        if step == 'Do':\n",
    "            Ystr=input('Year you want to delete:')\n",
    "            Mstr=input('Month you want to delete:')\n",
    "            Y=int(Ystr)\n",
    "            M=int(Mstr)\n",
    "            change_assets.delete_bymonth(Y,M,asserts_excelpath,datahistory)\n",
    "            update()\n",
    "        else :\n",
    "            update()\n",
    "    elif todo == 'C' :\n",
    "        print('please go to update income EXCEL({}\\input\\income_input.xlsx)'.format(lastlvPATH))\n",
    "        step=input(' update income EXCEL finish?(Y/back)')\n",
    "        if step == 'Y' :\n",
    "            ends_meet_month.update_ends_meet()\n",
    "            update()\n",
    "        else :\n",
    "            update() \n",
    "    else :\n",
    "        update()  "
   ]
  },
  {
   "cell_type": "code",
   "execution_count": null,
   "metadata": {
    "scrolled": true
   },
   "outputs": [
    {
     "name": "stdout",
     "output_type": "stream",
     "text": [
      "key about what do you want to do?(A.update_assests, B.delete_assest, C.update ends_meet)B\n",
      "Do or back?(Do/back)Do\n",
      "Year you want to delete:2021\n",
      "Month you want to delete:6\n"
     ]
    },
    {
     "name": "stderr",
     "output_type": "stream",
     "text": [
      "C:\\Users\\kid50\\mygithub\\Leon-stock\\financial\\change_assets.py:22: SettingWithCopyWarning: \n",
      "A value is trying to be set on a copy of a slice from a DataFrame.\n",
      "Try using .loc[row_indexer,col_indexer] = value instead\n",
      "\n",
      "See the caveats in the documentation: https://pandas.pydata.org/pandas-docs/stable/user_guide/indexing.html#returning-a-view-versus-a-copy\n",
      "  keep_asserts['TWD']=keep_asserts['TWD_exchange']*keep_asserts['QTY']\n",
      "C:\\Users\\kid50\\mygithub\\Leon-stock\\financial\\change_assets.py:23: SettingWithCopyWarning: \n",
      "A value is trying to be set on a copy of a slice from a DataFrame.\n",
      "Try using .loc[row_indexer,col_indexer] = value instead\n",
      "\n",
      "See the caveats in the documentation: https://pandas.pydata.org/pandas-docs/stable/user_guide/indexing.html#returning-a-view-versus-a-copy\n",
      "  keep_asserts['THB']=keep_asserts['THB_exchange']*keep_asserts['QTY']\n"
     ]
    },
    {
     "name": "stdout",
     "output_type": "stream",
     "text": [
      "key about what do you want to do?(A.update_assests, B.delete_assest, C.update ends_meet)A\n",
      "please go to append assets EXCEL,just write the data you want to append(C:\\Users\\kid50\\mygithub\\Leon-stock\\input\u0007ssets_input.xlsx)\n",
      " update assets EXCEL finish?(Y/back)back\n",
      "key about what do you want to do?(A.update_assests, B.delete_assest, C.update ends_meet)A\n",
      "please go to append assets EXCEL,just write the data you want to append(C:\\Users\\kid50\\mygithub\\Leon-stock\\input\u0007ssets_input.xlsx)\n",
      " update assets EXCEL finish?(Y/back)Y\n",
      "key about what do you want to do?(A.update_assests, B.delete_assest, C.update ends_meet)C\n",
      "please go to update income EXCEL(C:\\Users\\kid50\\mygithub\\Leon-stock\\input\\income_input.xlsx)\n",
      " update income EXCEL finish?(Y/back)Y\n"
     ]
    }
   ],
   "source": [
    "update()"
   ]
  },
  {
   "cell_type": "code",
   "execution_count": null,
   "metadata": {},
   "outputs": [],
   "source": []
  }
 ],
 "metadata": {
  "kernelspec": {
   "display_name": "Python 3",
   "language": "python",
   "name": "python3"
  },
  "language_info": {
   "codemirror_mode": {
    "name": "ipython",
    "version": 3
   },
   "file_extension": ".py",
   "mimetype": "text/x-python",
   "name": "python",
   "nbconvert_exporter": "python",
   "pygments_lexer": "ipython3",
   "version": "3.8.5"
  }
 },
 "nbformat": 4,
 "nbformat_minor": 4
}
