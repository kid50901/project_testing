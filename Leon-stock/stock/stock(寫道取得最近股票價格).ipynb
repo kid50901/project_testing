{
 "cells": [
  {
   "cell_type": "code",
   "execution_count": 11,
   "id": "ff3de6c3",
   "metadata": {},
   "outputs": [],
   "source": [
    "import numpy as np\n",
    "import requests\n",
    "import pandas as pd\n",
    "import datetime\n",
    "def transform_date(date):\n",
    "        y, m, d = date.split('/')\n",
    "        return str(int(y)+1911) + '/' + m  + '/' + d  #民國轉西元\n",
    "    \n",
    "def transform_data(data):\n",
    "    data[0] = datetime.datetime.strptime(transform_date(data[0]), '%Y/%m/%d')\n",
    "    data[1] = int(data[1].replace(',', ''))  #把千進位的逗點去除\n",
    "    data[2] = int(data[2].replace(',', ''))\n",
    "    data[3] = float(data[3].replace(',', ''))\n",
    "    data[4] = float(data[4].replace(',', ''))\n",
    "    data[5] = float(data[5].replace(',', ''))\n",
    "    data[6] = float(data[6].replace(',', ''))\n",
    "    data[7] = float(0.0 if data[7].replace(',', '') == 'X0.00' else data[7].replace(',', ''))  # +/-/X表示漲/跌/不比價\n",
    "    data[8] = int(data[8].replace(',', ''))\n",
    "    return data\n",
    "\n",
    "def transform(data):\n",
    "    return [transform_data(d) for d in data]\n",
    "def get_stock_history(date, stock_no):\n",
    "    quotes = []\n",
    "    url = 'http://www.twse.com.tw/exchangeReport/STOCK_DAY?date=%s&stockNo=%s' % ( date, stock_no)\n",
    "    r = requests.get(url)\n",
    "    data = r.json()\n",
    "    return transform(data['data'])  #進行資料格式轉換\n",
    "def get_stock_nowprice(stock_no):    \n",
    "    now=datetime.datetime.now()\n",
    "    Y=int(now.strftime('%Y'))\n",
    "    M=int(now.strftime('%m'))\n",
    "    formatted_today=now.strftime('%Y%m%d')\n",
    "    formatted_now=now.strftime(\"%Y_%m_%d_%H%M%S\")\n",
    "    lst=get_stock_history(formatted_now, stock_no)\n",
    "    #stock_no='00878'\n",
    "    now_price=lst[len(lst)-1][6]\n",
    "    return now_price\n",
    "lst=get_stock_history('20210801', '00878')"
   ]
  },
  {
   "cell_type": "code",
   "execution_count": 25,
   "id": "272e446b",
   "metadata": {},
   "outputs": [
    {
     "data": {
      "text/plain": [
       "18.2"
      ]
     },
     "execution_count": 25,
     "metadata": {},
     "output_type": "execute_result"
    }
   ],
   "source": [
    "def findnowprice(stock_no):    \n",
    "    now=datetime.datetime.now()\n",
    "    Y=int(now.strftime('%Y'))\n",
    "    M=int(now.strftime('%m'))\n",
    "    formatted_today=now.strftime('%Y%m%d')\n",
    "    formatted_now=now.strftime(\"%Y_%m_%d_%H%M%S\")\n",
    "    lst=get_stock_history(formatted_now, stock_no)\n",
    "    #stock_no='00878'\n",
    "    now_price=lst[len(lst)-1][6]\n",
    "    return now_price\n",
    "findnowprice('00878')"
   ]
  },
  {
   "cell_type": "code",
   "execution_count": 23,
   "id": "c4136dfb",
   "metadata": {},
   "outputs": [
    {
     "data": {
      "text/plain": [
       "18.2"
      ]
     },
     "execution_count": 23,
     "metadata": {},
     "output_type": "execute_result"
    }
   ],
   "source": [
    "lst[10][6]"
   ]
  },
  {
   "cell_type": "code",
   "execution_count": 21,
   "id": "7a7936ac",
   "metadata": {},
   "outputs": [
    {
     "data": {
      "text/plain": [
       "[[datetime.datetime(2021, 8, 2, 0, 0),\n",
       "  4128066,\n",
       "  75800193,\n",
       "  18.28,\n",
       "  18.44,\n",
       "  18.28,\n",
       "  18.44,\n",
       "  0.18,\n",
       "  1787],\n",
       " [datetime.datetime(2021, 8, 3, 0, 0),\n",
       "  9887997,\n",
       "  182456493,\n",
       "  18.5,\n",
       "  18.52,\n",
       "  18.41,\n",
       "  18.49,\n",
       "  0.05,\n",
       "  3914],\n",
       " [datetime.datetime(2021, 8, 4, 0, 0),\n",
       "  6726117,\n",
       "  124877247,\n",
       "  18.5,\n",
       "  18.61,\n",
       "  18.5,\n",
       "  18.59,\n",
       "  0.1,\n",
       "  2880],\n",
       " [datetime.datetime(2021, 8, 5, 0, 0),\n",
       "  6628818,\n",
       "  123537668,\n",
       "  18.61,\n",
       "  18.66,\n",
       "  18.6,\n",
       "  18.64,\n",
       "  0.05,\n",
       "  2916],\n",
       " [datetime.datetime(2021, 8, 6, 0, 0),\n",
       "  7119292,\n",
       "  132333142,\n",
       "  18.65,\n",
       "  18.65,\n",
       "  18.52,\n",
       "  18.63,\n",
       "  -0.01,\n",
       "  4242],\n",
       " [datetime.datetime(2021, 8, 9, 0, 0),\n",
       "  12105265,\n",
       "  223974952,\n",
       "  18.63,\n",
       "  18.63,\n",
       "  18.42,\n",
       "  18.51,\n",
       "  -0.12,\n",
       "  5704],\n",
       " [datetime.datetime(2021, 8, 10, 0, 0),\n",
       "  21547407,\n",
       "  398012191,\n",
       "  18.6,\n",
       "  18.6,\n",
       "  18.42,\n",
       "  18.45,\n",
       "  -0.06,\n",
       "  9174],\n",
       " [datetime.datetime(2021, 8, 11, 0, 0),\n",
       "  16000877,\n",
       "  294456820,\n",
       "  18.45,\n",
       "  18.47,\n",
       "  18.33,\n",
       "  18.42,\n",
       "  -0.03,\n",
       "  6832],\n",
       " [datetime.datetime(2021, 8, 12, 0, 0),\n",
       "  18271358,\n",
       "  335855941,\n",
       "  18.43,\n",
       "  18.47,\n",
       "  18.34,\n",
       "  18.35,\n",
       "  -0.07,\n",
       "  7787],\n",
       " [datetime.datetime(2021, 8, 13, 0, 0),\n",
       "  26144769,\n",
       "  477171818,\n",
       "  18.35,\n",
       "  18.38,\n",
       "  18.22,\n",
       "  18.24,\n",
       "  -0.11,\n",
       "  12598],\n",
       " [datetime.datetime(2021, 8, 16, 0, 0),\n",
       "  36541481,\n",
       "  661970474,\n",
       "  18.2,\n",
       "  18.2,\n",
       "  18.04,\n",
       "  18.2,\n",
       "  -0.04,\n",
       "  17798]]"
      ]
     },
     "execution_count": 21,
     "metadata": {},
     "output_type": "execute_result"
    }
   ],
   "source": [
    "lst"
   ]
  },
  {
   "cell_type": "code",
   "execution_count": 13,
   "id": "0328b68c",
   "metadata": {},
   "outputs": [],
   "source": [
    "ary=np.array(lst)\n",
    "aryT=ary.T"
   ]
  },
  {
   "cell_type": "code",
   "execution_count": 15,
   "id": "752f20d0",
   "metadata": {},
   "outputs": [
    {
     "data": {
      "text/plain": [
       "array([datetime.datetime(2021, 8, 2, 0, 0),\n",
       "       datetime.datetime(2021, 8, 3, 0, 0),\n",
       "       datetime.datetime(2021, 8, 4, 0, 0),\n",
       "       datetime.datetime(2021, 8, 5, 0, 0),\n",
       "       datetime.datetime(2021, 8, 6, 0, 0),\n",
       "       datetime.datetime(2021, 8, 9, 0, 0),\n",
       "       datetime.datetime(2021, 8, 10, 0, 0),\n",
       "       datetime.datetime(2021, 8, 11, 0, 0),\n",
       "       datetime.datetime(2021, 8, 12, 0, 0),\n",
       "       datetime.datetime(2021, 8, 13, 0, 0),\n",
       "       datetime.datetime(2021, 8, 16, 0, 0)], dtype=object)"
      ]
     },
     "execution_count": 15,
     "metadata": {},
     "output_type": "execute_result"
    }
   ],
   "source": [
    "aryT[0]"
   ]
  },
  {
   "cell_type": "code",
   "execution_count": null,
   "id": "e7caadcf",
   "metadata": {},
   "outputs": [],
   "source": []
  }
 ],
 "metadata": {
  "kernelspec": {
   "display_name": "Python 3",
   "language": "python",
   "name": "python3"
  },
  "language_info": {
   "codemirror_mode": {
    "name": "ipython",
    "version": 3
   },
   "file_extension": ".py",
   "mimetype": "text/x-python",
   "name": "python",
   "nbconvert_exporter": "python",
   "pygments_lexer": "ipython3",
   "version": "3.8.8"
  }
 },
 "nbformat": 4,
 "nbformat_minor": 5
}
