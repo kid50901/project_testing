{
 "cells": [
  {
   "cell_type": "code",
   "execution_count": 15,
   "id": "016a5ce8",
   "metadata": {},
   "outputs": [],
   "source": [
    "import pandas as pd\n",
    "import datetime as dt\n",
    "from Date_compute import MMonthago,YMonthago \n",
    "\n",
    "def getdata():\n",
    "    dfgl=pd.read_csv('https://covid.ourworldindata.org/data/owid-covid-data.csv')\n",
    "    dfgl_date=dfgl['date'].str.split('-',5, True)\n",
    "    dfgl['Y']=dfgl_date[0]\n",
    "    dfgl['M']=dfgl_date[1]\n",
    "    dfgl['D']=dfgl_date[2]\n",
    "    return dfgl\n",
    "def rowdataclean(dfgl):\n",
    "    countrymapping=pd.read_excel(r'contry_mapping.xlsx')\n",
    "    countrymapping=countrymapping.rename(columns={'English_name':'location'})\n",
    "    dfgl1=pd.merge(dfgl,countrymapping,how='left')\n",
    "    dfgl1.to_excel(r'myrawdata.xlsx',index=False)\n",
    "    return dfgl1\n",
    "def rawdata2month(rawdata,thisyear,thismonth):\n",
    "    Ylist=YMonthago(thisyear,thismonth,3)\n",
    "    Mlist=MMonthago(thismonth,3)\n",
    "    mask1=rawdata['Y']==Ylist[0]\n",
    "    mask2=rawdata['Y']==Ylist[1]\n",
    "    mask3=rawdata['M']==Mlist[0]\n",
    "    mask4=rawdata['M']==Mlist[1]\n",
    "    rawdata2month=rawdata[(mask1&mask3)|(mask2&mask4)]\n",
    "    return rawdata2month\n",
    "def updaterawdatathis2month():\n",
    "    now=dt.datetime.now()\n",
    "    today=now.strftime('%Y_%m_%d')\n",
    "    Y=int(now.strftime('%Y'))\n",
    "    M=int(now.strftime('%m'))\n",
    "    rawdata=pd.read_excel(r'myrawdata.xlsx')\n",
    "    rawdata2monthdf=rawdata2month(rawdata,Y,M)\n",
    "    rawdata2monthdf.to_excel(r'myrawdata2month.xlsx',index=False)\n",
    "def fiternewcase(date_chinese_country):\n",
    "    try:\n",
    "        x = date_chinese_country.split(\",\")\n",
    "        date=x[1]\n",
    "        chinese_country=x[2]\n",
    "        myrawdata2month=pd.read_excel(r'myrawdata2month.xlsx')\n",
    "        #date='2021-08-18'\n",
    "        #chinese_country='泰國'\n",
    "        maskdata=myrawdata2month['date']==date\n",
    "        maskcountry=myrawdata2month['Chinese_name']==chinese_country\n",
    "        filterdata=myrawdata2month[(maskdata&maskcountry)]\n",
    "        newcaseary=filterdata['new_cases'].values\n",
    "        return newcaseary[0]\n",
    "    except:\n",
    "        return '錯誤,可能是資料還未更新或格式打錯嘍~!'"
   ]
  },
  {
   "cell_type": "code",
   "execution_count": 3,
   "id": "4eff6ea3",
   "metadata": {},
   "outputs": [],
   "source": [
    "dfgl=getdata()\n",
    "rowdataclean(dfgl)\n",
    "updaterawdatathis2month()"
   ]
  },
  {
   "cell_type": "code",
   "execution_count": 10,
   "id": "2b12ac1a",
   "metadata": {},
   "outputs": [],
   "source": [
    "updaterawdatathis2month()"
   ]
  },
  {
   "cell_type": "code",
   "execution_count": 16,
   "id": "71f6e4db",
   "metadata": {},
   "outputs": [
    {
     "data": {
      "text/plain": [
       "20515.0"
      ]
     },
     "execution_count": 16,
     "metadata": {},
     "output_type": "execute_result"
    }
   ],
   "source": [
    "fiternewcase('新增確診數,2021-08-18,泰國')"
   ]
  },
  {
   "cell_type": "code",
   "execution_count": 18,
   "id": "9be47c78",
   "metadata": {},
   "outputs": [
    {
     "name": "stdout",
     "output_type": "stream",
     "text": [
      "go\n"
     ]
    }
   ],
   "source": [
    "event='新增確診數,2021-08-18,泰國'\n",
    "if event.find('新增確診')==-1:\n",
    "    print('no')\n",
    "else:\n",
    "    print('go')"
   ]
  },
  {
   "cell_type": "code",
   "execution_count": null,
   "id": "8d3f11e8",
   "metadata": {},
   "outputs": [],
   "source": []
  }
 ],
 "metadata": {
  "kernelspec": {
   "display_name": "Python 3",
   "language": "python",
   "name": "python3"
  },
  "language_info": {
   "codemirror_mode": {
    "name": "ipython",
    "version": 3
   },
   "file_extension": ".py",
   "mimetype": "text/x-python",
   "name": "python",
   "nbconvert_exporter": "python",
   "pygments_lexer": "ipython3",
   "version": "3.8.8"
  }
 },
 "nbformat": 4,
 "nbformat_minor": 5
}
