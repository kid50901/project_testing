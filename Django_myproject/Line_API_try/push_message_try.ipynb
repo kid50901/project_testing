{
 "cells": [
  {
   "cell_type": "code",
   "execution_count": 1,
   "id": "3f067d3b",
   "metadata": {},
   "outputs": [],
   "source": [
    "from linebot import LineBotApi\n",
    "from linebot.models import TextSendMessage\n",
    "import time\n",
    "line_bot_api = LineBotApi('wW/G5yoXQ9HSQ2SaUniDaAibUSBwGLif7NFeRDel9Gwv2Rh1q071815TJPjIHSmImXgt4N5sPaIVLz853wJ82Ala+fVCUzzEZzInIH08ulICC4meXX84RmoVs9PiEQAQRkN0TMFvBEJvq+OxbJJBGwdB04t89/1O/w1cDnyilFU=')\n",
    "# 請填入您的ID\n",
    "yourID = 'U7faec16e7a5a6eaa992737c557655363'\n",
    "# 主動推播訊息\n",
    "line_bot_api.push_message(yourID, \n",
    "                          TextSendMessage(text='安安您好！早餐吃了嗎？'))\n"
   ]
  },
  {
   "cell_type": "code",
   "execution_count": null,
   "id": "f9a87361",
   "metadata": {},
   "outputs": [],
   "source": []
  }
 ],
 "metadata": {
  "kernelspec": {
   "display_name": "Python 3",
   "language": "python",
   "name": "python3"
  },
  "language_info": {
   "codemirror_mode": {
    "name": "ipython",
    "version": 3
   },
   "file_extension": ".py",
   "mimetype": "text/x-python",
   "name": "python",
   "nbconvert_exporter": "python",
   "pygments_lexer": "ipython3",
   "version": "3.8.8"
  }
 },
 "nbformat": 4,
 "nbformat_minor": 5
}
