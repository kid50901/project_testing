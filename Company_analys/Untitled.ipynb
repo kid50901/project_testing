{
 "cells": [
  {
   "cell_type": "code",
   "execution_count": 9,
   "id": "55435319",
   "metadata": {},
   "outputs": [],
   "source": [
    "from bs4 import BeautifulSoup"
   ]
  },
  {
   "cell_type": "code",
   "execution_count": 4,
   "id": "6453f1a1",
   "metadata": {},
   "outputs": [],
   "source": [
    "import requests\n",
    "from bs4 import BeautifulSoup\n",
    "\n",
    "def get_company_nowinfo_formgoogle(company_no):\n",
    "    url = \"https://www.google.com/finance/quote/{}:TPE\".format(company_no) # PTT Python看板\n",
    "    response = requests.get(url) # 使用requests的get方法把網頁抓下來\n",
    "    html_doc = response.text # text屬性就是html文件原始碼\n",
    "    soup = BeautifulSoup(response.text, \"lxml\") # 指定lxml作為解析器來建立Beautiful物件\n",
    "    x=soup.find_all('div', class_='P6K39c', id=None)\n",
    "    return x\n",
    "def get_stock_nowprice(company_no):\n",
    "    x=get_company_nowinfo_formgoogle(company_no)\n",
    "    pricestr=x[0].get_text()\n",
    "    priceint=float(pricestr[1:])\n",
    "    return priceint\n"
   ]
  },
  {
   "cell_type": "code",
   "execution_count": 6,
   "id": "3d199002",
   "metadata": {},
   "outputs": [
    {
     "data": {
      "text/plain": [
       "float"
      ]
     },
     "execution_count": 6,
     "metadata": {},
     "output_type": "execute_result"
    }
   ],
   "source": [
    "type(get_stock_nowprice(9944))"
   ]
  },
  {
   "cell_type": "code",
   "execution_count": 24,
   "id": "0455cb7f",
   "metadata": {},
   "outputs": [
    {
     "data": {
      "text/plain": [
       "[<div class=\"P6K39c\">$22.45</div>,\n",
       " <div class=\"P6K39c\">$22.25 - $22.65</div>,\n",
       " <div class=\"P6K39c\">$19.50 - $25.40</div>,\n",
       " <div class=\"P6K39c\">2.47B TWD</div>,\n",
       " <div class=\"P6K39c\">68.26</div>,\n",
       " <div class=\"P6K39c\">1.77%</div>,\n",
       " <div class=\"P6K39c\">TPE</div>,\n",
       " <div class=\"P6K39c\">1962</div>,\n",
       " <div class=\"P6K39c\"><a class=\"tBHE4e\" href=\"https://www.google.com/maps/place/Taiwan?hl=en-US\" target=\"_blank\">Taiwan</a></div>,\n",
       " <div class=\"P6K39c\"><a class=\"tBHE4e\" href=\"http://www.shinih.com.tw/\" rel=\"noopener noreferrer\" target=\"_blank\">shinih.com.tw</a></div>,\n",
       " <div class=\"P6K39c\">1,201</div>]"
      ]
     },
     "execution_count": 24,
     "metadata": {},
     "output_type": "execute_result"
    }
   ],
   "source": []
  },
  {
   "cell_type": "code",
   "execution_count": null,
   "id": "2f526f2e",
   "metadata": {},
   "outputs": [],
   "source": []
  }
 ],
 "metadata": {
  "kernelspec": {
   "display_name": "Python 3",
   "language": "python",
   "name": "python3"
  },
  "language_info": {
   "codemirror_mode": {
    "name": "ipython",
    "version": 3
   },
   "file_extension": ".py",
   "mimetype": "text/x-python",
   "name": "python",
   "nbconvert_exporter": "python",
   "pygments_lexer": "ipython3",
   "version": "3.8.8"
  }
 },
 "nbformat": 4,
 "nbformat_minor": 5
}
